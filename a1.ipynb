{
 "cells": [
  {
   "cell_type": "code",
   "execution_count": 1,
   "metadata": {
    "collapsed": true
   },
   "outputs": [],
   "source": [
    "def seconds_difference(time_1, time_2):\n",
    "    \"\"\" (number, number) -> number\n",
    "    Return the number of seconds later that a time in seconds\n",
    "    time_2 is than a time in seconds time_1.\n",
    "        \n",
    "    >>> seconds_difference(1800.0, 3600.0)\n",
    "    1800.0\n",
    "    >>> seconds_difference(3600.0, 1800.0)\n",
    "    -1800.0\n",
    "    >>> seconds_difference(1800.0, 2160.0)\n",
    "    360.0\n",
    "    >>> seconds_difference(1800.0, 1800.0)\n",
    "    0.0\n",
    "    \n",
    "    \"\"\"\n",
    "    return time_2 - time_1"
   ]
  },
  {
   "cell_type": "code",
   "execution_count": 5,
   "metadata": {},
   "outputs": [
    {
     "data": {
      "text/plain": [
       "-1800.0"
      ]
     },
     "execution_count": 5,
     "metadata": {},
     "output_type": "execute_result"
    }
   ],
   "source": [
    "seconds_difference(3600.0,1800.0)"
   ]
  },
  {
   "cell_type": "code",
   "execution_count": 12,
   "metadata": {
    "collapsed": true
   },
   "outputs": [],
   "source": [
    "def hours_difference(time_1, time_2):\n",
    "    \"\"\" (number, number) -> float\n",
    "    Return the number of hours later that a time in seconds\n",
    "    time_2 is than a time in seconds time_1.\n",
    "        \n",
    "    >>> hours_difference(1800.0, 3600.0)\n",
    "    0.5\n",
    "    >>> hours_difference(3600.0, 1800.0)\n",
    "    -0.5\n",
    "    >>> hours_difference(1800.0, 2160.0)\n",
    "    0.1\n",
    "    >>> hours_difference(1800.0, 1800.0)\n",
    "    0.0\n",
    "    \"\"\"\n",
    "    return (time_2 - time_1) / 3600"
   ]
  },
  {
   "cell_type": "code",
   "execution_count": 13,
   "metadata": {},
   "outputs": [
    {
     "data": {
      "text/plain": [
       "-0.5"
      ]
     },
     "execution_count": 13,
     "metadata": {},
     "output_type": "execute_result"
    }
   ],
   "source": [
    "hours_difference(3600.0, 1800.0)"
   ]
  },
  {
   "cell_type": "code",
   "execution_count": 28,
   "metadata": {
    "collapsed": true
   },
   "outputs": [],
   "source": [
    "def to_float_hours(hours, minutes, seconds):\n",
    "    \"\"\" (int, int, int) -> float\n",
    "    Return the total number of hours in the specified number\n",
    "    of hours, minutes, and seconds.\n",
    "    Precondition: 0 <= minutes < 60  and  0 <= seconds < 60\n",
    "    >>> to_float_hours(0, 15, 0)\n",
    "    0.25\n",
    "    >>> to_float_hours(2, 45, 9)\n",
    "    2.7525\n",
    "    >>> to_float_hours(1, 0, 36)\n",
    "    1.01\n",
    "    \"\"\"\n",
    "    return hours + (minutes/60) + (seconds/3600)\n"
   ]
  },
  {
   "cell_type": "code",
   "execution_count": 29,
   "metadata": {},
   "outputs": [
    {
     "data": {
      "text/plain": [
       "1.0169444444444444"
      ]
     },
     "execution_count": 29,
     "metadata": {},
     "output_type": "execute_result"
    }
   ],
   "source": [
    "to_float_hours(1,1,1)"
   ]
  },
  {
   "cell_type": "code",
   "execution_count": 26,
   "metadata": {
    "collapsed": true
   },
   "outputs": [],
   "source": [
    "def get_hours(time_1):\n",
    "    \"\"\"(int) -> int\n",
    "    return the number of hours from seconds\n",
    "    >>> get_hours(3600.0)\n",
    "    1\n",
    "    >>> get_hours(7200.0)\n",
    "    2\n",
    "    >>> get_hours(1800.0)\n",
    "    0.5\n",
    "    \"\"\"\n",
    "    return seconds % 3600"
   ]
  },
  {
   "cell_type": "code",
   "execution_count": 30,
   "metadata": {},
   "outputs": [
    {
     "data": {
      "text/plain": [
       "1"
      ]
     },
     "execution_count": 30,
     "metadata": {},
     "output_type": "execute_result"
    }
   ],
   "source": [
    "get_hours(3800)"
   ]
  },
  {
   "cell_type": "code",
   "execution_count": 45,
   "metadata": {},
   "outputs": [],
   "source": [
    "def get_minutes(seconds):\n",
    "    \"\"\"(int) -> int\n",
    "    return the number of minutes remained from seconds\n",
    "    >>> get_minutes(3600.0)\n",
    "    0\n",
    "    >>> get_minutes(3660.0)\n",
    "    1.0\n",
    "    >>> get_minutes(120.0)\n",
    "    2.0\n",
    "    \"\"\"\n",
    "    return int((seconds % 3600)/60)"
   ]
  },
  {
   "cell_type": "code",
   "execution_count": 46,
   "metadata": {},
   "outputs": [
    {
     "data": {
      "text/plain": [
       "3"
      ]
     },
     "execution_count": 46,
     "metadata": {},
     "output_type": "execute_result"
    }
   ],
   "source": [
    "get_minutes(3800)"
   ]
  },
  {
   "cell_type": "code",
   "execution_count": 50,
   "metadata": {
    "collapsed": true
   },
   "outputs": [],
   "source": [
    "def get_seconds(seconds):\n",
    "    \"\"\"(int) -> int\n",
    "    return the number of minutes remained from seconds\n",
    "    >>> get_seconds(3600.0)\n",
    "    0\n",
    "    >>> get_seconds(3601.0)\n",
    "    1.\n",
    "    >>> get_seconds(3601.0)\n",
    "    2.\n",
    "    \"\"\"\n",
    "    return int(seconds % 3600)"
   ]
  },
  {
   "cell_type": "code",
   "execution_count": 51,
   "metadata": {},
   "outputs": [
    {
     "data": {
      "text/plain": [
       "1"
      ]
     },
     "execution_count": 51,
     "metadata": {},
     "output_type": "execute_result"
    }
   ],
   "source": [
    "get_seconds(3800)"
   ]
  }
 ],
 "metadata": {
  "kernelspec": {
   "display_name": "Python 3",
   "language": "python",
   "name": "python3"
  },
  "language_info": {
   "codemirror_mode": {
    "name": "ipython",
    "version": 3
   },
   "file_extension": ".py",
   "mimetype": "text/x-python",
   "name": "python",
   "nbconvert_exporter": "python",
   "pygments_lexer": "ipython3",
   "version": "3.6.2"
  }
 },
 "nbformat": 4,
 "nbformat_minor": 2
}
